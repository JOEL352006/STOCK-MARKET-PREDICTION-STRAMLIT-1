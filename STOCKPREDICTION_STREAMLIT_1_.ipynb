{
  "nbformat": 4,
  "nbformat_minor": 0,
  "metadata": {
    "colab": {
      "provenance": []
    },
    "kernelspec": {
      "name": "python3",
      "display_name": "Python 3"
    },
    "language_info": {
      "name": "python"
    }
  },
  "cells": [
    {
      "cell_type": "code",
      "execution_count": 21,
      "metadata": {
        "id": "epTe-Hnd33VU"
      },
      "outputs": [],
      "source": [
        "! pip install streamlit -q"
      ]
    },
    {
      "cell_type": "code",
      "source": [
        "pip install pandas_ta\n"
      ],
      "metadata": {
        "colab": {
          "base_uri": "https://localhost:8080/"
        },
        "id": "e1BOTxsj4AF1",
        "outputId": "82f8fe20-1ba8-4d72-e018-9c367a2e5a9f"
      },
      "execution_count": 20,
      "outputs": [
        {
          "output_type": "stream",
          "name": "stdout",
          "text": [
            "Collecting pandas_ta\n",
            "  Downloading pandas_ta-0.3.14b.tar.gz (115 kB)\n",
            "\u001b[2K     \u001b[90m━━━━━━━━━━━━━━━━━━━━━━━━━━━━━━━━━━━━━━━━\u001b[0m \u001b[32m115.1/115.1 kB\u001b[0m \u001b[31m2.1 MB/s\u001b[0m eta \u001b[36m0:00:00\u001b[0m\n",
            "\u001b[?25h  Preparing metadata (setup.py) ... \u001b[?25l\u001b[?25hdone\n",
            "Requirement already satisfied: pandas in /usr/local/lib/python3.10/dist-packages (from pandas_ta) (2.0.3)\n",
            "Requirement already satisfied: python-dateutil>=2.8.2 in /usr/local/lib/python3.10/dist-packages (from pandas->pandas_ta) (2.8.2)\n",
            "Requirement already satisfied: pytz>=2020.1 in /usr/local/lib/python3.10/dist-packages (from pandas->pandas_ta) (2023.4)\n",
            "Requirement already satisfied: tzdata>=2022.1 in /usr/local/lib/python3.10/dist-packages (from pandas->pandas_ta) (2024.1)\n",
            "Requirement already satisfied: numpy>=1.21.0 in /usr/local/lib/python3.10/dist-packages (from pandas->pandas_ta) (1.25.2)\n",
            "Requirement already satisfied: six>=1.5 in /usr/local/lib/python3.10/dist-packages (from python-dateutil>=2.8.2->pandas->pandas_ta) (1.16.0)\n",
            "Building wheels for collected packages: pandas_ta\n",
            "  Building wheel for pandas_ta (setup.py) ... \u001b[?25l\u001b[?25hdone\n",
            "  Created wheel for pandas_ta: filename=pandas_ta-0.3.14b0-py3-none-any.whl size=218907 sha256=818611924c47c77b198f068cb2918d6b9287170ecbcae7866f03fe292789ae61\n",
            "  Stored in directory: /root/.cache/pip/wheels/69/00/ac/f7fa862c34b0e2ef320175100c233377b4c558944f12474cf0\n",
            "Successfully built pandas_ta\n",
            "Installing collected packages: pandas_ta\n",
            "Successfully installed pandas_ta-0.3.14b0\n"
          ]
        }
      ]
    },
    {
      "cell_type": "code",
      "source": [
        "!pip install pyngrok\n"
      ],
      "metadata": {
        "colab": {
          "base_uri": "https://localhost:8080/"
        },
        "id": "SIF--eGW4NtC",
        "outputId": "f1f4f9eb-6cea-4764-e80f-a1e27a543c0e"
      },
      "execution_count": 22,
      "outputs": [
        {
          "output_type": "stream",
          "name": "stdout",
          "text": [
            "Requirement already satisfied: pyngrok in /usr/local/lib/python3.10/dist-packages (7.1.6)\n",
            "Requirement already satisfied: PyYAML>=5.1 in /usr/local/lib/python3.10/dist-packages (from pyngrok) (6.0.1)\n"
          ]
        }
      ]
    },
    {
      "cell_type": "code",
      "source": [
        "%%writefile app.py\n",
        "import streamlit as st\n",
        "import pandas as pd\n",
        "import numpy as np\n",
        "import yfinance as yf\n",
        "import plotly.express as px\n",
        "from alpha_vantage.fundamentaldata import FundamentalData\n",
        "from stocknews import StockNews\n",
        "import pandas_ta as ta\n",
        "from pandas.tseries.holiday import USFederalHolidayCalendar\n",
        "\n",
        "# Function to set a background image\n",
        "def set_background(background_image):\n",
        "    st.markdown(\n",
        "        f\"\"\"\n",
        "        <style>\n",
        "        .stApp {{\n",
        "            background: url(\"{background_image}\");\n",
        "            background-size: cover\n",
        "        }}\n",
        "        </style>\n",
        "        \"\"\",\n",
        "        unsafe_allow_html=True\n",
        "    )\n",
        "\n",
        "# Set background image\n",
        "set_background(\"https://images.unsplash.com/photo-1578861082890-f9211a299fb6\")\n",
        "\n",
        "# Add a famous quote\n",
        "st.markdown(\n",
        "    \"\"\"\n",
        "    <div style='text-align: center; font-size: 24px; font-weight: bold;'>\n",
        "        YOUR TRADING IS GOING TO PAY OFF SOONER THAN YOU THINK. BE PATIENT.\n",
        "    </div>\n",
        "    \"\"\",\n",
        "    unsafe_allow_html=True\n",
        ")\n",
        "\n",
        "st.title('Stock Dashboard')\n",
        "\n",
        "# List of stocks\n",
        "stocks = ['AAPL', 'GOOG', 'MSFT', 'AMZN', 'META', 'NFLX', 'TSLA', 'BA', 'IBM', 'NVDA',\n",
        "          'INTC', 'CSCO', 'PYPL', 'ADBE', 'NFLX', 'ASML', 'CMCSA', 'PEP', 'AVGO', 'TXN']\n",
        "\n",
        "# Function to analyze stocks and recommend the one with the least error\n",
        "def recommend_stock(stocks):\n",
        "    min_error = float('inf')\n",
        "    recommended_stock = None\n",
        "    for stock in stocks:\n",
        "        try:\n",
        "            data = yf.download(stock, period=\"1y\")\n",
        "            if data.empty:\n",
        "                continue\n",
        "            error = np.std(data['Close']) / np.mean(data['Close'])\n",
        "            if error < min_error:\n",
        "                min_error = error\n",
        "                recommended_stock = stock\n",
        "        except Exception as e:\n",
        "            st.write(f\"Error downloading data for {stock}: {e}\")\n",
        "    return recommended_stock\n",
        "\n",
        "# Recommended stock to buy\n",
        "recommended_stock = recommend_stock(stocks)\n",
        "st.sidebar.write(f\"Recommended Stock to Buy: {recommended_stock}\")\n",
        "\n",
        "# Input sidebar for ticker, start and end date\n",
        "selected_stock = st.sidebar.selectbox('Select Stock', stocks, index=0)\n",
        "start_date = st.sidebar.text_input('Start Date', '2001-01-01')\n",
        "end_date = st.sidebar.text_input('End Date', '2024-03-29')\n",
        "\n",
        "# Download data function call\n",
        "data = yf.download(selected_stock, start=start_date, end=end_date)\n",
        "\n",
        "# Plot the stock price line chart\n",
        "fig = px.line(data, x=data.index, y=data['Adj Close'], title=selected_stock)\n",
        "st.plotly_chart(fig)\n",
        "\n",
        "# Display Price Movements\n",
        "st.header('Price Movements')\n",
        "data2 = data.copy()\n",
        "data2['% Change'] = data['Adj Close'].pct_change()\n",
        "data2.dropna(inplace=True)\n",
        "st.write(data2)\n",
        "\n",
        "annual_return = data2['% Change'].mean() * 252 * 100\n",
        "st.write('Annual Return is', annual_return, '%')\n",
        "stdev = np.std(data2['% Change']) * np.sqrt(252)\n",
        "st.write('Standard Deviation is ', stdev * 100, '%')\n",
        "\n",
        "# Fundamental Data\n",
        "st.header('Fundamental Data')\n",
        "key = 'N2DNGUJU8ZBKH0VJ'  # Add your Alpha Vantage API key here\n",
        "fd = FundamentalData(key, output_format='pandas')\n",
        "st.subheader('Balance Sheet')\n",
        "balance_sheet = fd.get_balance_sheet_annual(selected_stock)[0]\n",
        "bs = balance_sheet.T[2:]\n",
        "bs.columns = list(balance_sheet.T.iloc[0])\n",
        "st.write(bs)\n",
        "\n",
        "st.subheader('Income Statement')\n",
        "income_statement = fd.get_income_statement_annual(selected_stock)[0]\n",
        "isl = income_statement.T[2:]\n",
        "isl.columns = list(income_statement.T.iloc[0])\n",
        "st.write(isl)\n",
        "\n",
        "st.subheader('Cash Flow Statement')\n",
        "cash_flow = fd.get_cash_flow_annual(selected_stock)[0]\n",
        "cf = cash_flow.T[2:]\n",
        "cf.columns = list(cash_flow.T.iloc[0])\n",
        "st.write(cf)\n",
        "\n",
        "# Top 10 News for Recommended Stock\n",
        "st.header('Top 10 News for Recommended Stock')\n",
        "sn = StockNews(recommended_stock)\n",
        "df_news = sn.read_rss()\n",
        "for i in range(10):\n",
        "    st.subheader(f'News {i+1}')\n",
        "    st.write(df_news['published'][i])\n",
        "    st.write(df_news['title'][i])\n",
        "    st.write(df_news['summary'][i])\n",
        "    title_sentiment = df_news['sentiment_title'][i]\n",
        "    st.write(f'Title Sentiment: {title_sentiment}')\n",
        "    news_sentiment = df_news['sentiment_summary'][i]\n",
        "    st.write(f'News Sentiment: {news_sentiment}')\n",
        "\n",
        "# Technical Analysis Dashboard\n",
        "st.header('Technical Analysis Dashboard')\n",
        "indicators = ['MACD', 'RSI', 'Bollinger Bands', 'ATR', 'OBV', 'AD', 'CCI', 'Chaikin Money Flow', 'VWAP']\n",
        "selected_indicator = st.selectbox('Select Technical Indicator', options=indicators)\n",
        "\n",
        "indicator_data = None\n",
        "if selected_indicator == 'MACD':\n",
        "    indicator_data = ta.macd(data['Close'])\n",
        "elif selected_indicator == 'RSI':\n",
        "    indicator_data = ta.rsi(data['Close'])\n",
        "elif selected_indicator == 'Bollinger Bands':\n",
        "    indicator_data = ta.bbands(data['Close'])\n",
        "elif selected_indicator == 'ATR':\n",
        "    indicator_data = ta.atr(data['High'], data['Low'], data['Close'])\n",
        "elif selected_indicator == 'OBV':\n",
        "    indicator_data = ta.obv(data['Close'], data['Volume'])\n",
        "elif selected_indicator == 'AD':\n",
        "    indicator_data = ta.ad(data['High'], data['Low'], data['Close'], data['Volume'])\n",
        "elif selected_indicator == 'CCI':\n",
        "    indicator_data = ta.cci(data['High'], data['Low'], data['Close'])\n",
        "elif selected_indicator == 'Chaikin Money Flow':\n",
        "    indicator_data = ta.cmf(data['High'], data['Low'], data['Close'], data['Volume'])\n",
        "elif selected_indicator == 'VWAP':\n",
        "    indicator_data = ta.vwap(data['High'], data['Low'], data['Close'], data['Volume'])\n",
        "\n",
        "if indicator_data is not None:\n",
        "    st.line_chart(indicator_data)\n",
        "    st.write(indicator_data)\n",
        "\n",
        "# Portfolio Summary\n",
        "st.header('Portfolio Summary')\n",
        "if st.checkbox(\"Show Portfolio Summary\"):\n",
        "    # Example data (replace with your actual portfolio data)\n",
        "    portfolio_value = 1000000  # Total portfolio value\n",
        "    cash = 200000  # Cash balance\n",
        "    stocks_value = 800000  # Value of stocks\n",
        "    total_return = 0.15  # Total return (15%)\n",
        "    annual_return = 0.10  # Annualized return (10%)\n",
        "    volatility = 0.20  # Portfolio volatility (20%)\n",
        "\n",
        "    st.subheader(\"Portfolio Value\")\n",
        "    st.write(f\"Total Portfolio Value: ${portfolio_value:,.2f}\")\n",
        "    st.write(f\"Cash: ${cash:,.2f}\")\n",
        "    st.write(f\"Stocks Value: ${stocks_value:,.2f}\")\n",
        "\n",
        "    st.subheader(\"Performance Metrics\")\n",
        "    st.write(f\"Total Return: {total_return * 100:.2f}%\")\n",
        "    st.write(f\"Annualized Return: {annual_return * 100:.2f}%\")\n",
        "    st.write(f\"Portfolio Volatility: {volatility * 100:.2f}%\")\n",
        "\n",
        "# Watchlist\n",
        "st.header('Watchlist')\n",
        "if st.checkbox(\"Show Watchlist\"):\n",
        "    # Example data (replace with your actual watchlist data)\n",
        "    watchlist = {\n",
        "        'AAPL': {'price': 150.50, 'change': 1.25, 'percent_change': 0.84},\n",
        "        'GOOG': {'price': 2800.75, 'change': -5.50, 'percent_change': -0.20},\n",
        "        'MSFT': {'price': 250.20, 'change': 2.80, 'percent_change': 1.13},\n",
        "        # Add more stocks as needed\n",
        "    }\n",
        "\n",
        "    st.subheader(\"Stocks in Watchlist\")\n",
        "    for stock, data in watchlist.items():\n",
        "        st.write(f\"{stock}:\")\n",
        "        st.write(f\"Price: ${data['price']:.2f}\")\n",
        "        st.write(f\"Change: ${data['change']:.2f}\")\n",
        "        st.write(f\"Percent Change: {data['percent_change']:.2f}%\")\n",
        "\n",
        "# Market Indices\n",
        "st.header('Market Indices')\n",
        "if st.checkbox(\"Show Market Indices\"):\n",
        "    # Example data (replace with your actual market indices data)\n",
        "    sp500_value = 4000  # S&P 500 index value\n",
        "    dow_value = 33000  # Dow Jones Industrial Average index value\n",
        "    nasdaq_value = 13000  # NASDAQ index value\n",
        "\n",
        "    st.subheader(\"Market Indices\")\n",
        "    st.write(f\"S&P 500 Index: {sp500_value}\")\n",
        "    st.write(f\"Dow Jones Industrial Average: {dow_value}\")\n",
        "    st.write(f\"NASDAQ Composite: {nasdaq_value}\")\n",
        "\n",
        "# Individual Stock Performance\n",
        "st.header('Individual Stock Performance')\n",
        "if st.checkbox(\"Show Individual Stock Performance\"):\n",
        "    for symbol in stocks:\n",
        "        # Replace this with your actual stock data retrieval and calculations\n",
        "        # For now, show a placeholder\n",
        "        st.subheader(f\"{symbol} Performance\")\n",
        "        st.write(\"Placeholder for performance metrics\")\n",
        "\n",
        "        st.subheader(f\"{symbol} Performance\")\n",
        "        st.write(\"Placeholder for performance metrics\")\n",
        "\n",
        "# Stock Market Chatbot\n",
        "st.header(' Chatbot')\n",
        "st.subheader('Ask queries related to Stock Market')\n",
        "\n",
        "user_input = st.text_input('Type Your Question: ', '')\n",
        "\n",
        "if user_input.lower() in ['hi', 'hello', 'hey']:\n",
        "    st.write('Bot: Hello! How can I help you today?')\n",
        "\n",
        "elif user_input.lower() in ['what is stock market', 'define stock market']:\n",
        "    st.write('Bot: The stock market refers to the collection of markets and exchanges where activities like buying, selling, and issuance of shares of publicly-held companies take place.')\n",
        "\n",
        "elif user_input.lower() in ['what is stock market prediction', 'define stock market prediction']:\n",
        "    st.write('Bot: Stock market prediction involves forecasting future movements of stock prices based on historical data and market trends.')\n",
        "\n",
        "elif user_input.lower() in ['what is a stock', 'define stock']:\n",
        "    st.write('Bot: A stock represents a share in the ownership of a company. Owning stock means owning a piece of the company.')\n",
        "\n",
        "elif user_input.lower() in ['thank you', 'thanks', 'bye', 'goodbye']:\n",
        "    st.write('Bot: You\\'re welcome! Have a great day!')\n",
        "\n",
        "else:\n",
        "    st.write('Bot: Sorry, I didn\\'t get that. Please ask something else.')\n",
        "\n",
        "# Footer\n",
        "st.markdown(\n",
        "    \"\"\"\n",
        "    <style>\n",
        "    .footer {\n",
        "        position: fixed;\n",
        "        left: 0;\n",
        "        bottom: 0;\n",
        "        width: 100%;\n",
        "        background-color: #f0f0f0;\n",
        "        color: black;\n",
        "        text-align: center;\n",
        "        font-size: 12px;\n",
        "    }\n",
        "    </style>\n",
        "    \"\"\"\n",
        "    , unsafe_allow_html=True\n",
        ")\n",
        "\n",
        "st.markdown(\n",
        "    \"\"\"\n",
        "    <div class=\"footer\">\n",
        "    <p>Created by JOEL</p>\n",
        "    </div>\n",
        "    \"\"\"\n",
        "    , unsafe_allow_html=True\n",
        ")\n"
      ],
      "metadata": {
        "colab": {
          "base_uri": "https://localhost:8080/"
        },
        "id": "35FchnEl8rEL",
        "outputId": "bff8cce7-965a-41dd-9468-98f763bd0adb"
      },
      "execution_count": 39,
      "outputs": [
        {
          "output_type": "stream",
          "name": "stdout",
          "text": [
            "Overwriting app.py\n"
          ]
        }
      ]
    },
    {
      "cell_type": "code",
      "source": [
        "!pip install pandas_market_calendars\n",
        "\n"
      ],
      "metadata": {
        "colab": {
          "base_uri": "https://localhost:8080/"
        },
        "id": "xkl5UDmS60oV",
        "outputId": "c25c184a-d957-4113-9d8b-94a22ef83d53"
      },
      "execution_count": 25,
      "outputs": [
        {
          "output_type": "stream",
          "name": "stdout",
          "text": [
            "Collecting pandas_market_calendars\n",
            "  Downloading pandas_market_calendars-4.4.0-py3-none-any.whl (106 kB)\n",
            "\u001b[?25l     \u001b[90m━━━━━━━━━━━━━━━━━━━━━━━━━━━━━━━━━━━━━━━━\u001b[0m \u001b[32m0.0/106.6 kB\u001b[0m \u001b[31m?\u001b[0m eta \u001b[36m-:--:--\u001b[0m\r\u001b[2K     \u001b[90m━━━━━━━━━━━━━━━━━━━━━━━━━━━━━━━━━━━━━━━━\u001b[0m \u001b[32m106.6/106.6 kB\u001b[0m \u001b[31m3.1 MB/s\u001b[0m eta \u001b[36m0:00:00\u001b[0m\n",
            "\u001b[?25hRequirement already satisfied: pandas>=1.1 in /usr/local/lib/python3.10/dist-packages (from pandas_market_calendars) (2.0.3)\n",
            "Requirement already satisfied: pytz in /usr/local/lib/python3.10/dist-packages (from pandas_market_calendars) (2023.4)\n",
            "Requirement already satisfied: python-dateutil in /usr/local/lib/python3.10/dist-packages (from pandas_market_calendars) (2.8.2)\n",
            "Collecting exchange-calendars>=3.3 (from pandas_market_calendars)\n",
            "  Downloading exchange_calendars-4.5.4-py3-none-any.whl (192 kB)\n",
            "\u001b[?25l     \u001b[90m━━━━━━━━━━━━━━━━━━━━━━━━━━━━━━━━━━━━━━━━\u001b[0m \u001b[32m0.0/192.6 kB\u001b[0m \u001b[31m?\u001b[0m eta \u001b[36m-:--:--\u001b[0m\r\u001b[2K     \u001b[90m━━━━━━━━━━━━━━━━━━━━━━━━━━━━━━━━━━━━━━━━\u001b[0m \u001b[32m192.6/192.6 kB\u001b[0m \u001b[31m14.7 MB/s\u001b[0m eta \u001b[36m0:00:00\u001b[0m\n",
            "\u001b[?25hRequirement already satisfied: numpy<2 in /usr/local/lib/python3.10/dist-packages (from exchange-calendars>=3.3->pandas_market_calendars) (1.25.2)\n",
            "Collecting pyluach (from exchange-calendars>=3.3->pandas_market_calendars)\n",
            "  Downloading pyluach-2.2.0-py3-none-any.whl (25 kB)\n",
            "Requirement already satisfied: toolz in /usr/local/lib/python3.10/dist-packages (from exchange-calendars>=3.3->pandas_market_calendars) (0.12.1)\n",
            "Requirement already satisfied: tzdata in /usr/local/lib/python3.10/dist-packages (from exchange-calendars>=3.3->pandas_market_calendars) (2024.1)\n",
            "Collecting korean-lunar-calendar (from exchange-calendars>=3.3->pandas_market_calendars)\n",
            "  Downloading korean_lunar_calendar-0.3.1-py3-none-any.whl (9.0 kB)\n",
            "Requirement already satisfied: six>=1.5 in /usr/local/lib/python3.10/dist-packages (from python-dateutil->pandas_market_calendars) (1.16.0)\n",
            "Installing collected packages: korean-lunar-calendar, pyluach, exchange-calendars, pandas_market_calendars\n",
            "Successfully installed exchange-calendars-4.5.4 korean-lunar-calendar-0.3.1 pandas_market_calendars-4.4.0 pyluach-2.2.0\n"
          ]
        }
      ]
    },
    {
      "cell_type": "code",
      "source": [
        "!pip install alpha_vantage\n"
      ],
      "metadata": {
        "colab": {
          "base_uri": "https://localhost:8080/"
        },
        "id": "BQOdnVLv9IS5",
        "outputId": "8db2a0fb-a1f2-4adb-bc7a-406e76417808"
      },
      "execution_count": 26,
      "outputs": [
        {
          "output_type": "stream",
          "name": "stdout",
          "text": [
            "Requirement already satisfied: alpha_vantage in /usr/local/lib/python3.10/dist-packages (2.3.1)\n",
            "Requirement already satisfied: aiohttp in /usr/local/lib/python3.10/dist-packages (from alpha_vantage) (3.9.5)\n",
            "Requirement already satisfied: requests in /usr/local/lib/python3.10/dist-packages (from alpha_vantage) (2.31.0)\n",
            "Requirement already satisfied: aiosignal>=1.1.2 in /usr/local/lib/python3.10/dist-packages (from aiohttp->alpha_vantage) (1.3.1)\n",
            "Requirement already satisfied: attrs>=17.3.0 in /usr/local/lib/python3.10/dist-packages (from aiohttp->alpha_vantage) (23.2.0)\n",
            "Requirement already satisfied: frozenlist>=1.1.1 in /usr/local/lib/python3.10/dist-packages (from aiohttp->alpha_vantage) (1.4.1)\n",
            "Requirement already satisfied: multidict<7.0,>=4.5 in /usr/local/lib/python3.10/dist-packages (from aiohttp->alpha_vantage) (6.0.5)\n",
            "Requirement already satisfied: yarl<2.0,>=1.0 in /usr/local/lib/python3.10/dist-packages (from aiohttp->alpha_vantage) (1.9.4)\n",
            "Requirement already satisfied: async-timeout<5.0,>=4.0 in /usr/local/lib/python3.10/dist-packages (from aiohttp->alpha_vantage) (4.0.3)\n",
            "Requirement already satisfied: charset-normalizer<4,>=2 in /usr/local/lib/python3.10/dist-packages (from requests->alpha_vantage) (3.3.2)\n",
            "Requirement already satisfied: idna<4,>=2.5 in /usr/local/lib/python3.10/dist-packages (from requests->alpha_vantage) (3.7)\n",
            "Requirement already satisfied: urllib3<3,>=1.21.1 in /usr/local/lib/python3.10/dist-packages (from requests->alpha_vantage) (2.0.7)\n",
            "Requirement already satisfied: certifi>=2017.4.17 in /usr/local/lib/python3.10/dist-packages (from requests->alpha_vantage) (2024.6.2)\n"
          ]
        }
      ]
    },
    {
      "cell_type": "code",
      "source": [
        "!pip install yfinance\n"
      ],
      "metadata": {
        "colab": {
          "base_uri": "https://localhost:8080/"
        },
        "id": "-N1GOz-k9MlJ",
        "outputId": "932bd3bb-9e91-45de-dbce-ad2fdd1fc728"
      },
      "execution_count": 27,
      "outputs": [
        {
          "output_type": "stream",
          "name": "stdout",
          "text": [
            "Requirement already satisfied: yfinance in /usr/local/lib/python3.10/dist-packages (0.2.40)\n",
            "Requirement already satisfied: pandas>=1.3.0 in /usr/local/lib/python3.10/dist-packages (from yfinance) (2.0.3)\n",
            "Requirement already satisfied: numpy>=1.16.5 in /usr/local/lib/python3.10/dist-packages (from yfinance) (1.25.2)\n",
            "Requirement already satisfied: requests>=2.31 in /usr/local/lib/python3.10/dist-packages (from yfinance) (2.31.0)\n",
            "Requirement already satisfied: multitasking>=0.0.7 in /usr/local/lib/python3.10/dist-packages (from yfinance) (0.0.11)\n",
            "Requirement already satisfied: lxml>=4.9.1 in /usr/local/lib/python3.10/dist-packages (from yfinance) (4.9.4)\n",
            "Requirement already satisfied: platformdirs>=2.0.0 in /usr/local/lib/python3.10/dist-packages (from yfinance) (4.2.2)\n",
            "Requirement already satisfied: pytz>=2022.5 in /usr/local/lib/python3.10/dist-packages (from yfinance) (2023.4)\n",
            "Requirement already satisfied: frozendict>=2.3.4 in /usr/local/lib/python3.10/dist-packages (from yfinance) (2.4.4)\n",
            "Requirement already satisfied: peewee>=3.16.2 in /usr/local/lib/python3.10/dist-packages (from yfinance) (3.17.5)\n",
            "Requirement already satisfied: beautifulsoup4>=4.11.1 in /usr/local/lib/python3.10/dist-packages (from yfinance) (4.12.3)\n",
            "Requirement already satisfied: html5lib>=1.1 in /usr/local/lib/python3.10/dist-packages (from yfinance) (1.1)\n",
            "Requirement already satisfied: soupsieve>1.2 in /usr/local/lib/python3.10/dist-packages (from beautifulsoup4>=4.11.1->yfinance) (2.5)\n",
            "Requirement already satisfied: six>=1.9 in /usr/local/lib/python3.10/dist-packages (from html5lib>=1.1->yfinance) (1.16.0)\n",
            "Requirement already satisfied: webencodings in /usr/local/lib/python3.10/dist-packages (from html5lib>=1.1->yfinance) (0.5.1)\n",
            "Requirement already satisfied: python-dateutil>=2.8.2 in /usr/local/lib/python3.10/dist-packages (from pandas>=1.3.0->yfinance) (2.8.2)\n",
            "Requirement already satisfied: tzdata>=2022.1 in /usr/local/lib/python3.10/dist-packages (from pandas>=1.3.0->yfinance) (2024.1)\n",
            "Requirement already satisfied: charset-normalizer<4,>=2 in /usr/local/lib/python3.10/dist-packages (from requests>=2.31->yfinance) (3.3.2)\n",
            "Requirement already satisfied: idna<4,>=2.5 in /usr/local/lib/python3.10/dist-packages (from requests>=2.31->yfinance) (3.7)\n",
            "Requirement already satisfied: urllib3<3,>=1.21.1 in /usr/local/lib/python3.10/dist-packages (from requests>=2.31->yfinance) (2.0.7)\n",
            "Requirement already satisfied: certifi>=2017.4.17 in /usr/local/lib/python3.10/dist-packages (from requests>=2.31->yfinance) (2024.6.2)\n"
          ]
        }
      ]
    },
    {
      "cell_type": "code",
      "source": [
        "\n",
        "!pip install stocknews"
      ],
      "metadata": {
        "colab": {
          "base_uri": "https://localhost:8080/"
        },
        "id": "EdGoOlbS9Q6y",
        "outputId": "4ce089c7-05ad-4b2c-96cb-e73f4e7eadb4"
      },
      "execution_count": 28,
      "outputs": [
        {
          "output_type": "stream",
          "name": "stdout",
          "text": [
            "Collecting stocknews\n",
            "  Downloading stocknews-0.9.11.tar.gz (5.4 kB)\n",
            "  Preparing metadata (setup.py) ... \u001b[?25l\u001b[?25hdone\n",
            "Requirement already satisfied: pandas in /usr/local/lib/python3.10/dist-packages (from stocknews) (2.0.3)\n",
            "Collecting feedparser (from stocknews)\n",
            "  Downloading feedparser-6.0.11-py3-none-any.whl (81 kB)\n",
            "\u001b[2K     \u001b[90m━━━━━━━━━━━━━━━━━━━━━━━━━━━━━━━━━━━━━━━━\u001b[0m \u001b[32m81.3/81.3 kB\u001b[0m \u001b[31m2.9 MB/s\u001b[0m eta \u001b[36m0:00:00\u001b[0m\n",
            "\u001b[?25hRequirement already satisfied: nltk in /usr/local/lib/python3.10/dist-packages (from stocknews) (3.8.1)\n",
            "Requirement already satisfied: requests in /usr/local/lib/python3.10/dist-packages (from stocknews) (2.31.0)\n",
            "Requirement already satisfied: numpy in /usr/local/lib/python3.10/dist-packages (from stocknews) (1.25.2)\n",
            "Collecting sgmllib3k (from feedparser->stocknews)\n",
            "  Downloading sgmllib3k-1.0.0.tar.gz (5.8 kB)\n",
            "  Preparing metadata (setup.py) ... \u001b[?25l\u001b[?25hdone\n",
            "Requirement already satisfied: click in /usr/local/lib/python3.10/dist-packages (from nltk->stocknews) (8.1.7)\n",
            "Requirement already satisfied: joblib in /usr/local/lib/python3.10/dist-packages (from nltk->stocknews) (1.4.2)\n",
            "Requirement already satisfied: regex>=2021.8.3 in /usr/local/lib/python3.10/dist-packages (from nltk->stocknews) (2024.5.15)\n",
            "Requirement already satisfied: tqdm in /usr/local/lib/python3.10/dist-packages (from nltk->stocknews) (4.66.4)\n",
            "Requirement already satisfied: python-dateutil>=2.8.2 in /usr/local/lib/python3.10/dist-packages (from pandas->stocknews) (2.8.2)\n",
            "Requirement already satisfied: pytz>=2020.1 in /usr/local/lib/python3.10/dist-packages (from pandas->stocknews) (2023.4)\n",
            "Requirement already satisfied: tzdata>=2022.1 in /usr/local/lib/python3.10/dist-packages (from pandas->stocknews) (2024.1)\n",
            "Requirement already satisfied: charset-normalizer<4,>=2 in /usr/local/lib/python3.10/dist-packages (from requests->stocknews) (3.3.2)\n",
            "Requirement already satisfied: idna<4,>=2.5 in /usr/local/lib/python3.10/dist-packages (from requests->stocknews) (3.7)\n",
            "Requirement already satisfied: urllib3<3,>=1.21.1 in /usr/local/lib/python3.10/dist-packages (from requests->stocknews) (2.0.7)\n",
            "Requirement already satisfied: certifi>=2017.4.17 in /usr/local/lib/python3.10/dist-packages (from requests->stocknews) (2024.6.2)\n",
            "Requirement already satisfied: six>=1.5 in /usr/local/lib/python3.10/dist-packages (from python-dateutil>=2.8.2->pandas->stocknews) (1.16.0)\n",
            "Building wheels for collected packages: stocknews, sgmllib3k\n",
            "  Building wheel for stocknews (setup.py) ... \u001b[?25l\u001b[?25hdone\n",
            "  Created wheel for stocknews: filename=stocknews-0.9.11-py3-none-any.whl size=5396 sha256=25f6eb90b2f91cf4653a4de06f6aff80134a9f8831d4c5f567d4a6e1fa54e5d5\n",
            "  Stored in directory: /root/.cache/pip/wheels/9e/59/42/c5ab3171c3509ff8bc6aafbc089fe826eacf531ef7f7803ff6\n",
            "  Building wheel for sgmllib3k (setup.py) ... \u001b[?25l\u001b[?25hdone\n",
            "  Created wheel for sgmllib3k: filename=sgmllib3k-1.0.0-py3-none-any.whl size=6049 sha256=b992c90c5033c593d01190fe56c561c9cc5aa83acb1bb55d25e61b2d0384343b\n",
            "  Stored in directory: /root/.cache/pip/wheels/f0/69/93/a47e9d621be168e9e33c7ce60524393c0b92ae83cf6c6e89c5\n",
            "Successfully built stocknews sgmllib3k\n",
            "Installing collected packages: sgmllib3k, feedparser, stocknews\n",
            "Successfully installed feedparser-6.0.11 sgmllib3k-1.0.0 stocknews-0.9.11\n"
          ]
        }
      ]
    },
    {
      "cell_type": "code",
      "source": [],
      "metadata": {
        "id": "ycbTSgJt9Wc6"
      },
      "execution_count": null,
      "outputs": []
    },
    {
      "cell_type": "code",
      "source": [
        "! streamlit run app.py & npx localtunnel --port 8501\n"
      ],
      "metadata": {
        "colab": {
          "base_uri": "https://localhost:8080/"
        },
        "id": "uH0HiCvO4O-v",
        "outputId": "ae2a3f6c-22db-4969-bb7d-99010f611cb7"
      },
      "execution_count": null,
      "outputs": [
        {
          "output_type": "stream",
          "name": "stdout",
          "text": [
            "\n",
            "Collecting usage statistics. To deactivate, set browser.gatherUsageStats to false.\n",
            "\u001b[0m\n",
            "\u001b[0m\n",
            "\u001b[34m\u001b[1m  You can now view your Streamlit app in your browser.\u001b[0m\n",
            "\u001b[0m\n",
            "\u001b[34m  Local URL: \u001b[0m\u001b[1mhttp://localhost:8501\u001b[0m\n",
            "\u001b[34m  Network URL: \u001b[0m\u001b[1mhttp://172.28.0.12:8501\u001b[0m\n",
            "\u001b[34m  External URL: \u001b[0m\u001b[1mhttp://35.245.24.22:8501\u001b[0m\n",
            "\u001b[0m\n",
            "\u001b[K\u001b[?25hnpx: installed 22 in 2.184s\n",
            "your url is: https://some-houses-tap.loca.lt\n",
            "[*********************100%%**********************]  1 of 1 completed\n",
            "[*********************100%%**********************]  1 of 1 completed\n",
            "[*********************100%%**********************]  1 of 1 completed\n",
            "[*********************100%%**********************]  1 of 1 completed\n",
            "[*********************100%%**********************]  1 of 1 completed\n",
            "[*********************100%%**********************]  1 of 1 completed\n",
            "[*********************100%%**********************]  1 of 1 completed\n",
            "[*********************100%%**********************]  1 of 1 completed\n",
            "[*********************100%%**********************]  1 of 1 completed\n",
            "[*********************100%%**********************]  1 of 1 completed\n",
            "[*********************100%%**********************]  1 of 1 completed\n",
            "[*********************100%%**********************]  1 of 1 completed\n",
            "[*********************100%%**********************]  1 of 1 completed\n",
            "[*********************100%%**********************]  1 of 1 completed\n",
            "[*********************100%%**********************]  1 of 1 completed\n",
            "[*********************100%%**********************]  1 of 1 completed\n",
            "[*********************100%%**********************]  1 of 1 completed\n",
            "[*********************100%%**********************]  1 of 1 completed\n",
            "[*********************100%%**********************]  1 of 1 completed\n",
            "[*********************100%%**********************]  1 of 1 completed\n",
            "[*********************100%%**********************]  1 of 1 completed\n",
            "[*********************100%%**********************]  1 of 1 completed\n",
            "[*********************100%%**********************]  1 of 1 completed\n",
            "[*********************100%%**********************]  1 of 1 completed\n",
            "[*********************100%%**********************]  1 of 1 completed\n",
            "[*********************100%%**********************]  1 of 1 completed\n",
            "[*********************100%%**********************]  1 of 1 completed\n",
            "[*********************100%%**********************]  1 of 1 completed\n",
            "[*********************100%%**********************]  1 of 1 completed\n",
            "[*********************100%%**********************]  1 of 1 completed\n",
            "[*********************100%%**********************]  1 of 1 completed\n",
            "[*********************100%%**********************]  1 of 1 completed\n",
            "[*********************100%%**********************]  1 of 1 completed\n",
            "[*********************100%%**********************]  1 of 1 completed\n",
            "[*********************100%%**********************]  1 of 1 completed\n",
            "[*********************100%%**********************]  1 of 1 completed\n",
            "[*********************100%%**********************]  1 of 1 completed\n",
            "[*********************100%%**********************]  1 of 1 completed\n",
            "[*********************100%%**********************]  1 of 1 completed\n",
            "[*********************100%%**********************]  1 of 1 completed\n",
            "[*********************100%%**********************]  1 of 1 completed\n",
            "[*********************100%%**********************]  1 of 1 completed\n"
          ]
        }
      ]
    },
    {
      "cell_type": "code",
      "source": [
        "!pip install alpha_vantage\n"
      ],
      "metadata": {
        "colab": {
          "base_uri": "https://localhost:8080/"
        },
        "id": "vw4S2Wkg9Ztn",
        "outputId": "c8750e0f-a100-4a75-ae51-ec03ce1bee81"
      },
      "execution_count": 29,
      "outputs": [
        {
          "output_type": "stream",
          "name": "stdout",
          "text": [
            "Requirement already satisfied: alpha_vantage in /usr/local/lib/python3.10/dist-packages (2.3.1)\n",
            "Requirement already satisfied: aiohttp in /usr/local/lib/python3.10/dist-packages (from alpha_vantage) (3.9.5)\n",
            "Requirement already satisfied: requests in /usr/local/lib/python3.10/dist-packages (from alpha_vantage) (2.31.0)\n",
            "Requirement already satisfied: aiosignal>=1.1.2 in /usr/local/lib/python3.10/dist-packages (from aiohttp->alpha_vantage) (1.3.1)\n",
            "Requirement already satisfied: attrs>=17.3.0 in /usr/local/lib/python3.10/dist-packages (from aiohttp->alpha_vantage) (23.2.0)\n",
            "Requirement already satisfied: frozenlist>=1.1.1 in /usr/local/lib/python3.10/dist-packages (from aiohttp->alpha_vantage) (1.4.1)\n",
            "Requirement already satisfied: multidict<7.0,>=4.5 in /usr/local/lib/python3.10/dist-packages (from aiohttp->alpha_vantage) (6.0.5)\n",
            "Requirement already satisfied: yarl<2.0,>=1.0 in /usr/local/lib/python3.10/dist-packages (from aiohttp->alpha_vantage) (1.9.4)\n",
            "Requirement already satisfied: async-timeout<5.0,>=4.0 in /usr/local/lib/python3.10/dist-packages (from aiohttp->alpha_vantage) (4.0.3)\n",
            "Requirement already satisfied: charset-normalizer<4,>=2 in /usr/local/lib/python3.10/dist-packages (from requests->alpha_vantage) (3.3.2)\n",
            "Requirement already satisfied: idna<4,>=2.5 in /usr/local/lib/python3.10/dist-packages (from requests->alpha_vantage) (3.7)\n",
            "Requirement already satisfied: urllib3<3,>=1.21.1 in /usr/local/lib/python3.10/dist-packages (from requests->alpha_vantage) (2.0.7)\n",
            "Requirement already satisfied: certifi>=2017.4.17 in /usr/local/lib/python3.10/dist-packages (from requests->alpha_vantage) (2024.6.2)\n"
          ]
        }
      ]
    },
    {
      "cell_type": "code",
      "source": [
        "!pip install stocknews\n"
      ],
      "metadata": {
        "colab": {
          "base_uri": "https://localhost:8080/"
        },
        "id": "xfKqLtEF9dqa",
        "outputId": "f4f75346-fb03-475a-e0d7-03ff08cbe9ad"
      },
      "execution_count": 30,
      "outputs": [
        {
          "output_type": "stream",
          "name": "stdout",
          "text": [
            "Requirement already satisfied: stocknews in /usr/local/lib/python3.10/dist-packages (0.9.11)\n",
            "Requirement already satisfied: pandas in /usr/local/lib/python3.10/dist-packages (from stocknews) (2.0.3)\n",
            "Requirement already satisfied: feedparser in /usr/local/lib/python3.10/dist-packages (from stocknews) (6.0.11)\n",
            "Requirement already satisfied: nltk in /usr/local/lib/python3.10/dist-packages (from stocknews) (3.8.1)\n",
            "Requirement already satisfied: requests in /usr/local/lib/python3.10/dist-packages (from stocknews) (2.31.0)\n",
            "Requirement already satisfied: numpy in /usr/local/lib/python3.10/dist-packages (from stocknews) (1.25.2)\n",
            "Requirement already satisfied: sgmllib3k in /usr/local/lib/python3.10/dist-packages (from feedparser->stocknews) (1.0.0)\n",
            "Requirement already satisfied: click in /usr/local/lib/python3.10/dist-packages (from nltk->stocknews) (8.1.7)\n",
            "Requirement already satisfied: joblib in /usr/local/lib/python3.10/dist-packages (from nltk->stocknews) (1.4.2)\n",
            "Requirement already satisfied: regex>=2021.8.3 in /usr/local/lib/python3.10/dist-packages (from nltk->stocknews) (2024.5.15)\n",
            "Requirement already satisfied: tqdm in /usr/local/lib/python3.10/dist-packages (from nltk->stocknews) (4.66.4)\n",
            "Requirement already satisfied: python-dateutil>=2.8.2 in /usr/local/lib/python3.10/dist-packages (from pandas->stocknews) (2.8.2)\n",
            "Requirement already satisfied: pytz>=2020.1 in /usr/local/lib/python3.10/dist-packages (from pandas->stocknews) (2023.4)\n",
            "Requirement already satisfied: tzdata>=2022.1 in /usr/local/lib/python3.10/dist-packages (from pandas->stocknews) (2024.1)\n",
            "Requirement already satisfied: charset-normalizer<4,>=2 in /usr/local/lib/python3.10/dist-packages (from requests->stocknews) (3.3.2)\n",
            "Requirement already satisfied: idna<4,>=2.5 in /usr/local/lib/python3.10/dist-packages (from requests->stocknews) (3.7)\n",
            "Requirement already satisfied: urllib3<3,>=1.21.1 in /usr/local/lib/python3.10/dist-packages (from requests->stocknews) (2.0.7)\n",
            "Requirement already satisfied: certifi>=2017.4.17 in /usr/local/lib/python3.10/dist-packages (from requests->stocknews) (2024.6.2)\n",
            "Requirement already satisfied: six>=1.5 in /usr/local/lib/python3.10/dist-packages (from python-dateutil>=2.8.2->pandas->stocknews) (1.16.0)\n"
          ]
        }
      ]
    }
  ]
}